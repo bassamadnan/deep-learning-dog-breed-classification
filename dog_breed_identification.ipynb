{
  "nbformat": 4,
  "nbformat_minor": 0,
  "metadata": {
    "colab": {
      "provenance": [],
      "authorship_tag": "ABX9TyPvk9fh+8JJ+6hvFQ/5BBKz",
      "include_colab_link": true
    },
    "kernelspec": {
      "name": "python3",
      "display_name": "Python 3"
    },
    "language_info": {
      "name": "python"
    },
    "accelerator": "GPU",
    "gpuClass": "standard"
  },
  "cells": [
    {
      "cell_type": "markdown",
      "metadata": {
        "id": "view-in-github",
        "colab_type": "text"
      },
      "source": [
        "<a href=\"https://colab.research.google.com/github/bassamadnan/deep-learning-dog-breed-classification/blob/main/dog_breed_identification.ipynb\" target=\"_parent\"><img src=\"https://colab.research.google.com/assets/colab-badge.svg\" alt=\"Open In Colab\"/></a>"
      ]
    },
    {
      "cell_type": "markdown",
      "source": [
        "# 🐕‍🦺 End-to-end Multi-class Dog Breed Classification\n",
        "This notebook  builds an end-to-end multi-class image classifier using TensorFlow 2.0 and TensorFlow Hub.\n",
        "\n",
        "## 1. Problem\n",
        "> Identifying the breed of a dog given an image of a dog.\n",
        "\n",
        "## 2. Data\n",
        "The data we are using is from Kaggle's dog breed identification competition.\n",
        "https://www.kaggle.com/competitions/dog-breed-identification/overview\n",
        "\n",
        "## 3. Evaluation\n",
        "The evaluation is a file with prediction probabilities for each dog breed of each test image.\n",
        "https://www.kaggle.com/competitions/dog-breed-identification/overview/evaluation\n",
        "\n",
        "## 4. Features\n",
        "Some information about the data:\n",
        "* We're dealing with images (unstructured data) so it's probably best we use Deep Learning/ Transfer Learning\n",
        "* There are 120 breeds of dogs (this means there are 120 different classes).\n",
        "* There are 10,000+ images in the training set (labelled)\n",
        "* There are around 10,000 images in the test set (unlabelled and to be predicted)"
      ],
      "metadata": {
        "id": "uIk1AF7hydtY"
      }
    },
    {
      "cell_type": "code",
      "source": [
        "# Unzip the data \n",
        "# !unzip \"/content/drive/MyDrive/Dog Vision/dog-breed-identification.zip\" -d \"drive/MyDrive/Dog Vision/\""
      ],
      "metadata": {
        "id": "t7oe0fhbrmqi"
      },
      "execution_count": 10,
      "outputs": []
    },
    {
      "cell_type": "markdown",
      "source": [
        "## Get our workspace ready"
      ],
      "metadata": {
        "id": "rPlhqE9d1FBs"
      }
    },
    {
      "cell_type": "code",
      "source": [
        "# Import TensorFlow into Colab\n",
        "import tensorflow as tf\n",
        "import tensorflow_hub as hub\n",
        "print(\"TF version: \", tf.__version__) \n",
        "print(\"TF Hub: \", hub.__version__)\n",
        "\n",
        "# Check for GPU availability\n",
        "print(\"GPU\", \"available (!!)\" if tf.config.list_physical_devices(\"GPU\") else \":(\")"
      ],
      "metadata": {
        "colab": {
          "base_uri": "https://localhost:8080/"
        },
        "id": "yA5Cl-3b01KB",
        "outputId": "8f4f72db-ace5-47fd-b75c-80cce9c03592"
      },
      "execution_count": 1,
      "outputs": [
        {
          "output_type": "stream",
          "name": "stdout",
          "text": [
            "TF version:  2.8.2\n",
            "TF Hub:  0.12.0\n",
            "GPU available (!!)\n"
          ]
        }
      ]
    },
    {
      "cell_type": "code",
      "source": [],
      "metadata": {
        "id": "85X6ML991nBV"
      },
      "execution_count": null,
      "outputs": []
    }
  ]
}